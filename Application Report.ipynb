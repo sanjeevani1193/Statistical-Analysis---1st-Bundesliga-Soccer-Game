{
 "cells": [
  {
   "cell_type": "code",
   "execution_count": 52,
   "id": "ed69b4f0",
   "metadata": {},
   "outputs": [],
   "source": [
    "import pandas as pd \n",
    "import matplotlib.pyplot as plt"
   ]
  },
  {
   "cell_type": "code",
   "execution_count": 53,
   "metadata": {},
   "outputs": [],
   "source": [
    "file_path = \"/Users/sanjeevani1109/Desktop/Master's/TU Dortmund/passes.csv\""
   ]
  },
  {
   "cell_type": "code",
   "execution_count": 54,
   "metadata": {},
   "outputs": [],
   "source": [
    "df = pd.read_csv(file_path, delimiter=';')"
   ]
  },
  {
   "cell_type": "code",
   "execution_count": 55,
   "metadata": {},
   "outputs": [
    {
     "data": {
      "text/html": [
       "<div>\n",
       "<style scoped>\n",
       "    .dataframe tbody tr th:only-of-type {\n",
       "        vertical-align: middle;\n",
       "    }\n",
       "\n",
       "    .dataframe tbody tr th {\n",
       "        vertical-align: top;\n",
       "    }\n",
       "\n",
       "    .dataframe thead th {\n",
       "        text-align: right;\n",
       "    }\n",
       "</style>\n",
       "<table border=\"1\" class=\"dataframe\">\n",
       "  <thead>\n",
       "    <tr style=\"text-align: right;\">\n",
       "      <th></th>\n",
       "      <th>game_id</th>\n",
       "      <th>passing_quote</th>\n",
       "      <th>winner</th>\n",
       "    </tr>\n",
       "  </thead>\n",
       "  <tbody>\n",
       "    <tr>\n",
       "      <th>0</th>\n",
       "      <td>11</td>\n",
       "      <td>72.0</td>\n",
       "      <td>No</td>\n",
       "    </tr>\n",
       "    <tr>\n",
       "      <th>1</th>\n",
       "      <td>11</td>\n",
       "      <td>91.0</td>\n",
       "      <td>Yes</td>\n",
       "    </tr>\n",
       "    <tr>\n",
       "      <th>2</th>\n",
       "      <td>12</td>\n",
       "      <td>82.0</td>\n",
       "      <td>Yes</td>\n",
       "    </tr>\n",
       "    <tr>\n",
       "      <th>3</th>\n",
       "      <td>12</td>\n",
       "      <td>86.0</td>\n",
       "      <td>No</td>\n",
       "    </tr>\n",
       "    <tr>\n",
       "      <th>4</th>\n",
       "      <td>13</td>\n",
       "      <td>82.0</td>\n",
       "      <td>Yes</td>\n",
       "    </tr>\n",
       "    <tr>\n",
       "      <th>...</th>\n",
       "      <td>...</td>\n",
       "      <td>...</td>\n",
       "      <td>...</td>\n",
       "    </tr>\n",
       "    <tr>\n",
       "      <th>301</th>\n",
       "      <td>177</td>\n",
       "      <td>81.0</td>\n",
       "      <td>Yes</td>\n",
       "    </tr>\n",
       "    <tr>\n",
       "      <th>302</th>\n",
       "      <td>178</td>\n",
       "      <td>73.0</td>\n",
       "      <td>No</td>\n",
       "    </tr>\n",
       "    <tr>\n",
       "      <th>303</th>\n",
       "      <td>178</td>\n",
       "      <td>74.0</td>\n",
       "      <td>No</td>\n",
       "    </tr>\n",
       "    <tr>\n",
       "      <th>304</th>\n",
       "      <td>179</td>\n",
       "      <td>74.0</td>\n",
       "      <td>Yes</td>\n",
       "    </tr>\n",
       "    <tr>\n",
       "      <th>305</th>\n",
       "      <td>179</td>\n",
       "      <td>89.0</td>\n",
       "      <td>No</td>\n",
       "    </tr>\n",
       "  </tbody>\n",
       "</table>\n",
       "<p>306 rows × 3 columns</p>\n",
       "</div>"
      ],
      "text/plain": [
       "     game_id  passing_quote winner\n",
       "0         11           72.0     No\n",
       "1         11           91.0    Yes\n",
       "2         12           82.0    Yes\n",
       "3         12           86.0     No\n",
       "4         13           82.0    Yes\n",
       "..       ...            ...    ...\n",
       "301      177           81.0    Yes\n",
       "302      178           73.0     No\n",
       "303      178           74.0     No\n",
       "304      179           74.0    Yes\n",
       "305      179           89.0     No\n",
       "\n",
       "[306 rows x 3 columns]"
      ]
     },
     "execution_count": 55,
     "metadata": {},
     "output_type": "execute_result"
    }
   ],
   "source": [
    "df"
   ]
  },
  {
   "cell_type": "code",
   "execution_count": 56,
   "metadata": {},
   "outputs": [
    {
     "data": {
      "text/plain": [
       "game_id          0\n",
       "passing_quote    2\n",
       "winner           2\n",
       "dtype: int64"
      ]
     },
     "execution_count": 56,
     "metadata": {},
     "output_type": "execute_result"
    }
   ],
   "source": [
    "df.isnull().sum()"
   ]
  },
  {
   "cell_type": "code",
   "execution_count": 57,
   "metadata": {},
   "outputs": [],
   "source": [
    "df.dropna(inplace=True)"
   ]
  },
  {
   "cell_type": "code",
   "execution_count": 58,
   "metadata": {},
   "outputs": [
    {
     "data": {
      "text/html": [
       "<div>\n",
       "<style scoped>\n",
       "    .dataframe tbody tr th:only-of-type {\n",
       "        vertical-align: middle;\n",
       "    }\n",
       "\n",
       "    .dataframe tbody tr th {\n",
       "        vertical-align: top;\n",
       "    }\n",
       "\n",
       "    .dataframe thead th {\n",
       "        text-align: right;\n",
       "    }\n",
       "</style>\n",
       "<table border=\"1\" class=\"dataframe\">\n",
       "  <thead>\n",
       "    <tr style=\"text-align: right;\">\n",
       "      <th></th>\n",
       "      <th>game_id</th>\n",
       "      <th>passing_quote</th>\n",
       "      <th>winner</th>\n",
       "    </tr>\n",
       "  </thead>\n",
       "  <tbody>\n",
       "    <tr>\n",
       "      <th>0</th>\n",
       "      <td>11</td>\n",
       "      <td>72.0</td>\n",
       "      <td>No</td>\n",
       "    </tr>\n",
       "    <tr>\n",
       "      <th>1</th>\n",
       "      <td>11</td>\n",
       "      <td>91.0</td>\n",
       "      <td>Yes</td>\n",
       "    </tr>\n",
       "    <tr>\n",
       "      <th>2</th>\n",
       "      <td>12</td>\n",
       "      <td>82.0</td>\n",
       "      <td>Yes</td>\n",
       "    </tr>\n",
       "    <tr>\n",
       "      <th>3</th>\n",
       "      <td>12</td>\n",
       "      <td>86.0</td>\n",
       "      <td>No</td>\n",
       "    </tr>\n",
       "    <tr>\n",
       "      <th>4</th>\n",
       "      <td>13</td>\n",
       "      <td>82.0</td>\n",
       "      <td>Yes</td>\n",
       "    </tr>\n",
       "    <tr>\n",
       "      <th>...</th>\n",
       "      <td>...</td>\n",
       "      <td>...</td>\n",
       "      <td>...</td>\n",
       "    </tr>\n",
       "    <tr>\n",
       "      <th>301</th>\n",
       "      <td>177</td>\n",
       "      <td>81.0</td>\n",
       "      <td>Yes</td>\n",
       "    </tr>\n",
       "    <tr>\n",
       "      <th>302</th>\n",
       "      <td>178</td>\n",
       "      <td>73.0</td>\n",
       "      <td>No</td>\n",
       "    </tr>\n",
       "    <tr>\n",
       "      <th>303</th>\n",
       "      <td>178</td>\n",
       "      <td>74.0</td>\n",
       "      <td>No</td>\n",
       "    </tr>\n",
       "    <tr>\n",
       "      <th>304</th>\n",
       "      <td>179</td>\n",
       "      <td>74.0</td>\n",
       "      <td>Yes</td>\n",
       "    </tr>\n",
       "    <tr>\n",
       "      <th>305</th>\n",
       "      <td>179</td>\n",
       "      <td>89.0</td>\n",
       "      <td>No</td>\n",
       "    </tr>\n",
       "  </tbody>\n",
       "</table>\n",
       "<p>304 rows × 3 columns</p>\n",
       "</div>"
      ],
      "text/plain": [
       "     game_id  passing_quote winner\n",
       "0         11           72.0     No\n",
       "1         11           91.0    Yes\n",
       "2         12           82.0    Yes\n",
       "3         12           86.0     No\n",
       "4         13           82.0    Yes\n",
       "..       ...            ...    ...\n",
       "301      177           81.0    Yes\n",
       "302      178           73.0     No\n",
       "303      178           74.0     No\n",
       "304      179           74.0    Yes\n",
       "305      179           89.0     No\n",
       "\n",
       "[304 rows x 3 columns]"
      ]
     },
     "execution_count": 58,
     "metadata": {},
     "output_type": "execute_result"
    }
   ],
   "source": [
    "df"
   ]
  },
  {
   "cell_type": "code",
   "execution_count": 59,
   "metadata": {},
   "outputs": [
    {
     "data": {
      "text/plain": [
       "game_id          0\n",
       "passing_quote    0\n",
       "winner           0\n",
       "dtype: int64"
      ]
     },
     "execution_count": 59,
     "metadata": {},
     "output_type": "execute_result"
    }
   ],
   "source": [
    "df.isnull().sum()"
   ]
  },
  {
   "cell_type": "code",
   "execution_count": 60,
   "metadata": {},
   "outputs": [],
   "source": [
    "df['passing_quote'] = df['passing_quote'].astype(float)  # Ensure passing_quote is float"
   ]
  },
  {
   "cell_type": "code",
   "execution_count": 61,
   "metadata": {},
   "outputs": [
    {
     "data": {
      "text/plain": [
       "count    304.000000\n",
       "mean      79.680921\n",
       "std        6.960058\n",
       "min       53.000000\n",
       "25%       75.000000\n",
       "50%       80.000000\n",
       "75%       85.000000\n",
       "max       92.000000\n",
       "Name: passing_quote, dtype: float64"
      ]
     },
     "execution_count": 61,
     "metadata": {},
     "output_type": "execute_result"
    }
   ],
   "source": [
    "df['passing_quote'].describe()"
   ]
  },
  {
   "cell_type": "code",
   "execution_count": 62,
   "metadata": {},
   "outputs": [
    {
     "name": "stdout",
     "output_type": "stream",
     "text": [
      "Skewness of passing rates: -0.7035193986149534\n"
     ]
    }
   ],
   "source": [
    "print(\"Skewness of passing rates:\", df['passing_quote'].skew())"
   ]
  },
  {
   "cell_type": "code",
   "execution_count": 63,
   "metadata": {},
   "outputs": [
    {
     "name": "stdout",
     "output_type": "stream",
     "text": [
      "Interquartile Range: 10.0\n"
     ]
    }
   ],
   "source": [
    "# Interquartile Range (IQR)\n",
    "Q1 = df['passing_quote'].quantile(0.25)\n",
    "Q3 = df['passing_quote'].quantile(0.75)\n",
    "IQR = Q3 - Q1\n",
    "print(\"Interquartile Range:\", IQR)"
   ]
  },
  {
   "cell_type": "code",
   "execution_count": 64,
   "metadata": {},
   "outputs": [],
   "source": [
    "# Creating separate dataframes for wins, losses, and draws\n",
    "wins = df[df['winner']=='Yes']['passing_quote']\n",
    "losses = df[df['winner']=='No']['passing_quote']\n",
    "draws = df.groupby('game_id').filter(lambda x: (x['winner'] == 'No').all())"
   ]
  },
  {
   "cell_type": "code",
   "execution_count": 65,
   "metadata": {},
   "outputs": [
    {
     "data": {
      "text/plain": [
       "count    114.000000\n",
       "mean      81.078947\n",
       "std        8.064063\n",
       "min       53.000000\n",
       "25%       76.250000\n",
       "50%       83.000000\n",
       "75%       87.000000\n",
       "max       92.000000\n",
       "Name: passing_quote, dtype: float64"
      ]
     },
     "execution_count": 65,
     "metadata": {},
     "output_type": "execute_result"
    }
   ],
   "source": [
    "wins.describe()"
   ]
  },
  {
   "cell_type": "code",
   "execution_count": 66,
   "metadata": {},
   "outputs": [
    {
     "name": "stdout",
     "output_type": "stream",
     "text": [
      "Skewness of winners passing rates: -1.0559277069135216\n"
     ]
    }
   ],
   "source": [
    "print(\"Skewness of winners passing rates:\", wins.skew())"
   ]
  },
  {
   "cell_type": "code",
   "execution_count": 67,
   "metadata": {},
   "outputs": [
    {
     "data": {
      "text/plain": [
       "0    72.0\n",
       "3    86.0\n",
       "Name: passing_quote, dtype: float64"
      ]
     },
     "execution_count": 67,
     "metadata": {},
     "output_type": "execute_result"
    }
   ],
   "source": [
    "losses.head(2)"
   ]
  },
  {
   "cell_type": "code",
   "execution_count": 68,
   "metadata": {},
   "outputs": [
    {
     "data": {
      "text/plain": [
       "count    190.000000\n",
       "mean      78.842105\n",
       "std        6.074173\n",
       "min       59.000000\n",
       "25%       75.000000\n",
       "50%       79.000000\n",
       "75%       83.000000\n",
       "max       90.000000\n",
       "Name: passing_quote, dtype: float64"
      ]
     },
     "execution_count": 68,
     "metadata": {},
     "output_type": "execute_result"
    }
   ],
   "source": [
    "losses.describe()"
   ]
  },
  {
   "cell_type": "code",
   "execution_count": 69,
   "metadata": {},
   "outputs": [
    {
     "name": "stdout",
     "output_type": "stream",
     "text": [
      "Skewness of losers passing rates: -0.5582343407336847\n"
     ]
    }
   ],
   "source": [
    "print(\"Skewness of losers passing rates:\", losses.skew())"
   ]
  },
  {
   "cell_type": "code",
   "execution_count": 70,
   "metadata": {},
   "outputs": [
    {
     "data": {
      "text/html": [
       "<div>\n",
       "<style scoped>\n",
       "    .dataframe tbody tr th:only-of-type {\n",
       "        vertical-align: middle;\n",
       "    }\n",
       "\n",
       "    .dataframe tbody tr th {\n",
       "        vertical-align: top;\n",
       "    }\n",
       "\n",
       "    .dataframe thead th {\n",
       "        text-align: right;\n",
       "    }\n",
       "</style>\n",
       "<table border=\"1\" class=\"dataframe\">\n",
       "  <thead>\n",
       "    <tr style=\"text-align: right;\">\n",
       "      <th></th>\n",
       "      <th>game_id</th>\n",
       "      <th>passing_quote</th>\n",
       "      <th>winner</th>\n",
       "    </tr>\n",
       "  </thead>\n",
       "  <tbody>\n",
       "    <tr>\n",
       "      <th>8</th>\n",
       "      <td>15</td>\n",
       "      <td>85.0</td>\n",
       "      <td>No</td>\n",
       "    </tr>\n",
       "    <tr>\n",
       "      <th>9</th>\n",
       "      <td>15</td>\n",
       "      <td>77.0</td>\n",
       "      <td>No</td>\n",
       "    </tr>\n",
       "  </tbody>\n",
       "</table>\n",
       "</div>"
      ],
      "text/plain": [
       "   game_id  passing_quote winner\n",
       "8       15           85.0     No\n",
       "9       15           77.0     No"
      ]
     },
     "execution_count": 70,
     "metadata": {},
     "output_type": "execute_result"
    }
   ],
   "source": [
    "draws.head(2)"
   ]
  },
  {
   "cell_type": "code",
   "execution_count": 71,
   "metadata": {},
   "outputs": [
    {
     "data": {
      "text/plain": [
       "count    76.000000\n",
       "mean     78.210526\n",
       "std       7.250408\n",
       "min      59.000000\n",
       "25%      73.000000\n",
       "50%      79.500000\n",
       "75%      85.000000\n",
       "max      89.000000\n",
       "Name: passing_quote, dtype: float64"
      ]
     },
     "execution_count": 71,
     "metadata": {},
     "output_type": "execute_result"
    }
   ],
   "source": [
    "draws['passing_quote'].describe()"
   ]
  },
  {
   "cell_type": "code",
   "execution_count": 72,
   "metadata": {},
   "outputs": [
    {
     "name": "stdout",
     "output_type": "stream",
     "text": [
      "Skewness of draws passing rates: -0.5493677962657125\n"
     ]
    }
   ],
   "source": [
    "print(\"Skewness of draws passing rates:\", draws['passing_quote'].skew())"
   ]
  },
  {
   "cell_type": "code",
   "execution_count": 73,
   "metadata": {},
   "outputs": [
    {
     "name": "stdout",
     "output_type": "stream",
     "text": [
      "Average Passing Rate of Winners: 81.07894736842105\n",
      "Average Passing Rate of Losers: 78.84210526315789\n",
      "Average Passing Rate in Draws: 78.21052631578948\n"
     ]
    }
   ],
   "source": [
    "mean_passing_rate_wins = wins.mean()\n",
    "mean_passing_rate_losses = losses.mean()\n",
    "mean_passing_rate_draws = draws['passing_quote'].mean() if not draws.empty else None\n",
    "\n",
    "print(\"Average Passing Rate of Winners:\", mean_passing_rate_wins)\n",
    "print(\"Average Passing Rate of Losers:\", mean_passing_rate_losses)\n",
    "print(\"Average Passing Rate in Draws:\", mean_passing_rate_draws)"
   ]
  },
  {
   "cell_type": "code",
   "execution_count": 74,
   "metadata": {},
   "outputs": [
    {
     "name": "stdout",
     "output_type": "stream",
     "text": [
      "Median Passing Rate of Winners: 83.0\n",
      "Median Passing Rate of Losers: 79.0\n",
      "Median Passing Rate in Draws: 79.5\n"
     ]
    }
   ],
   "source": [
    "median_passing_rate_wins = wins.median()\n",
    "median_passing_rate_losses = losses.median()\n",
    "median_passing_rate_draws = draws['passing_quote'].median() if not draws.empty else None\n",
    "\n",
    "print(\"Median Passing Rate of Winners:\", median_passing_rate_wins)\n",
    "print(\"Median Passing Rate of Losers:\", median_passing_rate_losses)\n",
    "print(\"Median Passing Rate in Draws:\", median_passing_rate_draws)"
   ]
  },
  {
   "cell_type": "code",
   "execution_count": 75,
   "metadata": {},
   "outputs": [
    {
     "name": "stdout",
     "output_type": "stream",
     "text": [
      "Mode Passing Rate of Winners: 0    87.0\n",
      "Name: passing_quote, dtype: float64\n",
      "Mode Passing Rate of Losers: 0    80.0\n",
      "1    82.0\n",
      "Name: passing_quote, dtype: float64\n",
      "Mode Passing Rate in Draws: 0    87.0\n",
      "Name: passing_quote, dtype: float64\n"
     ]
    }
   ],
   "source": [
    "mode_passing_rate_wins = wins.mode()\n",
    "mode_passing_rate_losses = losses.mode()\n",
    "mode_passing_rate_draws = draws['passing_quote'].mode() if not draws.empty else None\n",
    "\n",
    "print(\"Mode Passing Rate of Winners:\", mode_passing_rate_wins)\n",
    "print(\"Mode Passing Rate of Losers:\", mode_passing_rate_losses)\n",
    "print(\"Mode Passing Rate in Draws:\", mode_passing_rate_draws)"
   ]
  },
  {
   "cell_type": "code",
   "execution_count": 76,
   "metadata": {},
   "outputs": [
    {
     "name": "stdout",
     "output_type": "stream",
     "text": [
      "Standard Deviation Passing Rate of Winners: 8.06406289574839\n",
      "Standard Deviation Passing Rate of Losers: 6.074172557969795\n",
      "Standard Deviation Passing Rate in Draws: 7.2504083369581025\n"
     ]
    }
   ],
   "source": [
    "# Calculating Standard Deviation\n",
    "std_dev_wins = wins.std()\n",
    "std_dev_losses = losses.std()\n",
    "std_dev_draws = draws['passing_quote'].std() if not draws.empty else None\n",
    "\n",
    "print(\"Standard Deviation Passing Rate of Winners:\", std_dev_wins)\n",
    "print(\"Standard Deviation Passing Rate of Losers:\", std_dev_losses)\n",
    "print(\"Standard Deviation Passing Rate in Draws:\", std_dev_draws)"
   ]
  },
  {
   "cell_type": "code",
   "execution_count": 77,
   "metadata": {},
   "outputs": [
    {
     "name": "stdout",
     "output_type": "stream",
     "text": [
      "IQR Winners: 10.75\n",
      "IQR Losers: 8.0\n",
      "IQR Draws: 12.0\n",
      "IQR DF: 10.0\n"
     ]
    }
   ],
   "source": [
    "# Calculate Interquartile Range\n",
    "iqr_wins = wins.quantile(0.75) - wins.quantile(0.25)\n",
    "iqr_losses = losses.quantile(0.75) - losses.quantile(0.25)\n",
    "iqr_draws = draws['passing_quote'].quantile(0.75) - draws['passing_quote'].quantile(0.25) if not draws.empty else None\n",
    "iqr_df = df['passing_quote'].quantile(0.75) - df['passing_quote'].quantile(0.25)\n",
    "\n",
    "\n",
    "print(\"IQR Winners:\", iqr_wins)\n",
    "print(\"IQR Losers:\", iqr_losses)\n",
    "print(\"IQR Draws:\", iqr_draws)\n",
    "print(\"IQR DF:\", iqr_df)"
   ]
  },
  {
   "cell_type": "code",
   "execution_count": 78,
   "metadata": {},
   "outputs": [
    {
     "name": "stdout",
     "output_type": "stream",
     "text": [
      "     game_id  passing_quote winner\n",
      "0         11           72.0     No\n",
      "1         11           91.0    Yes\n",
      "2         12           82.0    Yes\n",
      "3         12           86.0     No\n",
      "4         13           82.0    Yes\n",
      "..       ...            ...    ...\n",
      "299      176           91.0    Yes\n",
      "300      177           78.0     No\n",
      "301      177           81.0    Yes\n",
      "304      179           74.0    Yes\n",
      "305      179           89.0     No\n",
      "\n",
      "[228 rows x 3 columns]\n"
     ]
    }
   ],
   "source": [
    "games_with_winner = df.groupby('game_id').filter(lambda x: len(x) == 2 and any(x['winner'] != 'No'))\n",
    "print(games_with_winner)"
   ]
  },
  {
   "cell_type": "code",
   "execution_count": 79,
   "metadata": {},
   "outputs": [
    {
     "name": "stdout",
     "output_type": "stream",
     "text": [
      "     game_id  passing_quote winner\n",
      "8         15           85.0     No\n",
      "9         15           77.0     No\n",
      "24        24           65.0     No\n",
      "25        24           76.0     No\n",
      "32        28           67.0     No\n",
      "..       ...            ...    ...\n",
      "295      174           77.0     No\n",
      "296      175           84.0     No\n",
      "297      175           76.0     No\n",
      "302      178           73.0     No\n",
      "303      178           74.0     No\n",
      "\n",
      "[76 rows x 3 columns]\n"
     ]
    }
   ],
   "source": [
    "draws = df[df['winner'] == 'No'].groupby('game_id').filter(lambda x: len(x) == 2)\n",
    "print(draws)"
   ]
  },
  {
   "cell_type": "code",
   "execution_count": 80,
   "metadata": {},
   "outputs": [],
   "source": [
    "# Identify games that ended in a draw\n",
    "draw_games = df.groupby('game_id').filter(lambda x: all(x['winner'] == 'No'))\n",
    "\n",
    "# Identify games with a winner\n",
    "winner_games = df.groupby('game_id').filter(lambda x: any(x['winner'] == 'Yes'))"
   ]
  },
  {
   "cell_type": "code",
   "execution_count": 81,
   "metadata": {},
   "outputs": [
    {
     "name": "stderr",
     "output_type": "stream",
     "text": [
      "/var/folders/n5/f6xjtlr526zbr86__yns243m0000gn/T/ipykernel_23016/580050710.py:2: DeprecationWarning: DataFrameGroupBy.apply operated on the grouping columns. This behavior is deprecated, and in a future version of pandas the grouping columns will be excluded from the operation. Either pass `include_groups=False` to exclude the groupings or explicitly select the grouping columns after groupby to silence this warning.\n",
      "  winner_diff = winner_games.groupby('game_id').apply(\n",
      "/var/folders/n5/f6xjtlr526zbr86__yns243m0000gn/T/ipykernel_23016/580050710.py:7: DeprecationWarning: DataFrameGroupBy.apply operated on the grouping columns. This behavior is deprecated, and in a future version of pandas the grouping columns will be excluded from the operation. Either pass `include_groups=False` to exclude the groupings or explicitly select the grouping columns after groupby to silence this warning.\n",
      "  draw_diff = draw_games.groupby('game_id').apply(\n"
     ]
    }
   ],
   "source": [
    "# Calculate differences in passing rates for games with a winner\n",
    "winner_diff = winner_games.groupby('game_id').apply(\n",
    "    lambda x: abs(x.loc[x['winner'] == 'Yes', 'passing_quote'].values[0] - x.loc[x['winner'] == 'No', 'passing_quote'].values[0])\n",
    ").reset_index(name='passing_rate_diff')\n",
    "\n",
    "# Calculate differences in passing rates for games that ended in a draw\n",
    "draw_diff = draw_games.groupby('game_id').apply(\n",
    "    lambda x: abs(x['passing_quote'].values[0] - x['passing_quote'].values[1])\n",
    ").reset_index(name='passing_rate_diff')"
   ]
  },
  {
   "cell_type": "code",
   "execution_count": 82,
   "metadata": {},
   "outputs": [],
   "source": [
    "avgwinratediff = winner_diff['passing_rate_diff'].mean()\n",
    "avgdrawratediff = draw_diff['passing_rate_diff'].mean()"
   ]
  },
  {
   "cell_type": "markdown",
   "metadata": {},
   "source": [
    "# Visualization for passing rate in Wins v/s Losses"
   ]
  },
  {
   "cell_type": "code",
   "execution_count": 83,
   "metadata": {},
   "outputs": [
    {
     "data": {
      "image/png": "[encoded data removed]",
      "text/plain": [
       "<Figure size 640x480 with 1 Axes>"
      ]
     },
     "metadata": {},
     "output_type": "display_data"
    }
   ],
   "source": [
    "plt.boxplot([wins, losses], labels=['Winners', 'Losers'])\n",
    "plt.title('Passing Rate Comparison')\n",
    "plt.ylabel('Passing Rate (%)')\n",
    "plt.show()"
   ]
  },
  {
   "cell_type": "code",
   "execution_count": 84,
   "metadata": {},
   "outputs": [
    {
     "data": {
      "image/png": "[encoded data removed]",
      "text/plain": [
       "<Figure size 640x480 with 1 Axes>"
      ]
     },
     "metadata": {},
     "output_type": "display_data"
    }
   ],
   "source": [
    "categories = ['Wins', 'Losses']\n",
    "values = [mean_passing_rate_wins, mean_passing_rate_losses]\n",
    "\n",
    "plt.bar(categories, values, color=['blue', 'red'], width=0.9)\n",
    "plt.xlabel('Category')\n",
    "plt.ylabel('Average Passing Rate')\n",
    "plt.title('Average Passing Rate: Winners vs Losers')\n",
    "plt.show()"
   ]
  },
  {
   "cell_type": "code",
   "execution_count": 85,
   "metadata": {},
   "outputs": [
    {
     "data": {
      "image/png": "[encoded data removed]",
      "text/plain": [
       "<Figure size 640x480 with 1 Axes>"
      ]
     },
     "metadata": {},
     "output_type": "display_data"
    }
   ],
   "source": [
    "medcategs = ['Wins', 'Losses']\n",
    "medvals = [median_passing_rate_wins, median_passing_rate_losses]\n",
    "\n",
    "plt.bar(medcategs, medvals, color=['blue', 'red'], width=0.9)\n",
    "plt.xlabel('Category')\n",
    "plt.ylabel('Median Passing Rate')\n",
    "plt.title('Median Passing Rate: Winners vs Losers')\n",
    "plt.show()"
   ]
  },
  {
   "cell_type": "markdown",
   "metadata": {},
   "source": [
    "# Visualization for passing rate in Wins v/s Draws\n"
   ]
  },
  {
   "cell_type": "code",
   "execution_count": 86,
   "metadata": {},
   "outputs": [
    {
     "data": {
      "image/png": "[encoded data removed]",
      "text/plain": [
       "<Figure size 640x480 with 1 Axes>"
      ]
     },
     "metadata": {},
     "output_type": "display_data"
    }
   ],
   "source": [
    "# Box plot for visual comparison\n",
    "plt.boxplot([wins, draws['passing_quote']], labels=['Winners', 'Draws'])\n",
    "plt.title('Passing Rate Comparison')\n",
    "plt.ylabel('Passing Rate (%)')\n",
    "plt.show()"
   ]
  },
  {
   "cell_type": "code",
   "execution_count": 87,
   "metadata": {},
   "outputs": [
    {
     "data": {
      "image/png": "[encoded data removed]",
      "text/plain": [
       "<Figure size 640x480 with 1 Axes>"
      ]
     },
     "metadata": {},
     "output_type": "display_data"
    }
   ],
   "source": [
    "categs = ['Wins', 'Draws']\n",
    "vals = [mean_passing_rate_wins, mean_passing_rate_draws]\n",
    "\n",
    "plt.bar(categs, vals, color=['blue', 'red'], width=0.9)\n",
    "plt.xlabel('Category')\n",
    "plt.ylabel('Average Passing Rate')\n",
    "plt.title('Average Passing Rate: Winners vs Draws')\n",
    "plt.show()"
   ]
  },
  {
   "cell_type": "code",
   "execution_count": 88,
   "metadata": {},
   "outputs": [
    {
     "data": {
      "image/png": "[encoded data removed]",
      "text/plain": [
       "<Figure size 640x480 with 1 Axes>"
      ]
     },
     "metadata": {},
     "output_type": "display_data"
    }
   ],
   "source": [
    "cats = ['Wins', 'Draws']\n",
    "valss = [avgwinratediff, avgdrawratediff]\n",
    "\n",
    "plt.bar(cats, valss, color=['blue', 'red'], width=0.9)\n",
    "plt.xlabel('Category')\n",
    "plt.ylabel('Difference in Passing Rate')\n",
    "plt.title('Difference Passing Rate: Winners vs Draws')\n",
    "plt.show()"
   ]
  },
  {
   "cell_type": "markdown",
   "metadata": {},
   "source": [
    "# HYPOTHESIS TESTING"
   ]
  },
  {
   "cell_type": "code",
   "execution_count": 89,
   "metadata": {},
   "outputs": [
    {
     "name": "stdout",
     "output_type": "stream",
     "text": [
      "T-statistic: 2.741802595638678\n",
      "P-value: 0.003237382544129911\n"
     ]
    }
   ],
   "source": [
    "# Perform a two-sample t-test for passing rate between winners and losers\n",
    "from scipy.stats import ttest_ind\n",
    "t_stat, p_value = ttest_ind(wins, losses, alternative='greater')\n",
    "\n",
    "print(\"T-statistic:\", t_stat)\n",
    "print(\"P-value:\", p_value)"
   ]
  },
  {
   "cell_type": "code",
   "execution_count": 90,
   "metadata": {},
   "outputs": [
    {
     "data": {
      "text/plain": [
       "(0.44319150260164086, 0.3291328781283943)"
      ]
     },
     "execution_count": 90,
     "metadata": {},
     "output_type": "execute_result"
    }
   ],
   "source": [
    "# Perform a t-test to compare the differences in passing rates between winners and draws\n",
    "t_stat, p_value = ttest_ind(winner_diff['passing_rate_diff'], draw_diff['passing_rate_diff'], alternative='greater')\n",
    "\n",
    "t_stat, p_value"
   ]
  }
 ],
 "metadata": {
  "kernelspec": {
   "display_name": "Python 3 (ipykernel)",
   "language": "python",
   "name": "python3"
  },
  "language_info": {
   "codemirror_mode": {
    "name": "ipython",
    "version": 3
   },
   "file_extension": ".py",
   "mimetype": "text/x-python",
   "name": "python",
   "nbconvert_exporter": "python",
   "pygments_lexer": "ipython3",
   "version": "3.9.19"
  }
 },
 "nbformat": 4,
 "nbformat_minor": 5
}
